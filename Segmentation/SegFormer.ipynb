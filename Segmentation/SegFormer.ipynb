{
 "cells": [
  {
   "cell_type": "code",
   "execution_count": null,
   "id": "473d0b14-22de-430a-b6b6-5741629df5a5",
   "metadata": {},
   "outputs": [],
   "source": [
    "# https://keras.io/examples/vision/segformer/"
   ]
  },
  {
   "cell_type": "markdown",
   "id": "e3479c00-78f1-419c-b60f-669e04e0fa09",
   "metadata": {},
   "source": [
    "# 🏿 GPU and CUDA"
   ]
  },
  {
   "cell_type": "code",
   "execution_count": 1,
   "id": "8812bab5-3371-4e5a-84dd-0d876af83649",
   "metadata": {},
   "outputs": [
    {
     "name": "stdout",
     "output_type": "stream",
     "text": [
      "NVIDIA GeForce RTX 3090 with 34.2 GB of available RAM.\n",
      "\n",
      "nvcc: NVIDIA (R) Cuda compiler driver\n",
      "Copyright (c) 2005-2021 NVIDIA Corporation\n",
      "Built on Sun_Feb_14_22:08:44_Pacific_Standard_Time_2021\n",
      "Cuda compilation tools, release 11.2, V11.2.152\n",
      "Build cuda_11.2.r11.2/compiler.29618528_0\n"
     ]
    }
   ],
   "source": [
    "from psutil import virtual_memory       \n",
    "gpu = !nvidia-smi --query-gpu=gpu_name --format=csv,noheader\n",
    "ram_gb = virtual_memory().total / 1e9\n",
    "print(f'{gpu.s} with {round(ram_gb,1)} GB of available RAM.\\n')\n",
    "!nvcc --version"
   ]
  },
  {
   "cell_type": "markdown",
   "id": "2711f51d-975e-4f1b-8e38-91cae4f9ce0c",
   "metadata": {
    "tags": []
   },
   "source": [
    "# ⚙ Configurations"
   ]
  },
  {
   "cell_type": "code",
   "execution_count": 2,
   "id": "b86be2a5-f456-41e0-ab80-56e3b97ff003",
   "metadata": {},
   "outputs": [],
   "source": [
    "import os\n",
    "DIR = os.getcwd()\n",
    "ANN_FILE = os.path.join(DIR, 'data\\\\result.json')\n",
    "MSKS_DIR = os.path.join(DIR, 'data\\\\masks')\n",
    "IMGS_DIR = os.path.join(DIR, 'data\\\\images')\n",
    "NO_LABEL_DIR = os.path.join(DIR, 'output_MSRCR_total\\\\1')\n",
    "CHCKPNT_MODELS = os.path.join(DIR, 'checkpoints\\\\deeplabv3')\n",
    "BATCH_SIZE = 4\n",
    "# IMG_SIZE = (256,256)\n",
    "IMG_SIZE = (512,512)\n",
    "SEED = 42"
   ]
  },
  {
   "cell_type": "code",
   "execution_count": 3,
   "id": "02b0bc19-21d4-4732-b30a-e50340308a35",
   "metadata": {},
   "outputs": [
    {
     "name": "stdout",
     "output_type": "stream",
     "text": [
      "channels_first\n"
     ]
    }
   ],
   "source": [
    "# force a channel ordering\n",
    "from keras import backend\n",
    "# force channels-first ordering\n",
    "#backend.set_image_data_format('channels_first')\n",
    "print(backend.image_data_format())"
   ]
  },
  {
   "cell_type": "markdown",
   "id": "b9beb39c-db21-4a94-a713-3f8ade060c0c",
   "metadata": {},
   "source": [
    "# COCO format dataset "
   ]
  },
  {
   "cell_type": "code",
   "execution_count": 3,
   "id": "2b5d36eb-ff2d-483b-953d-f612d3ac90a8",
   "metadata": {},
   "outputs": [
    {
     "name": "stdout",
     "output_type": "stream",
     "text": [
      "loading annotations into memory...\n",
      "Done (t=0.01s)\n",
      "creating index...\n",
      "index created!\n"
     ]
    }
   ],
   "source": [
    "# for Windows, install pycocotools with conda\n",
    "import pycocotools\n",
    "from pycocotools.coco import COCO\n",
    "dset = COCO(ANN_FILE)"
   ]
  },
  {
   "cell_type": "code",
   "execution_count": 4,
   "id": "d6d3d42a-37a7-4e8b-8c7d-a8be7e51b8b9",
   "metadata": {},
   "outputs": [
    {
     "name": "stdout",
     "output_type": "stream",
     "text": [
      "Categories: [{'id': 0, 'name': 'background'}, {'id': 1, 'name': 'reef'}]\n"
     ]
    }
   ],
   "source": [
    "catIDs = dset.getCatIds()\n",
    "cats = dset.loadCats(catIDs)\n",
    "print(f\"Categories: {cats}\")"
   ]
  },
  {
   "cell_type": "markdown",
   "id": "3800b6d6-1e96-4bb4-a2f7-2eb94a6ae035",
   "metadata": {},
   "source": [
    "# Data Preparation"
   ]
  },
  {
   "cell_type": "code",
   "execution_count": 155,
   "id": "01a6de97-ea16-4f1e-a1cc-75a89a1f4135",
   "metadata": {},
   "outputs": [
    {
     "name": "stdout",
     "output_type": "stream",
     "text": [
      "Found 36 files belonging to 1 classes.\n",
      "Using 31 files for training.\n",
      "Using 5 files for validation.\n",
      "Found 36 files belonging to 1 classes.\n",
      "Using 31 files for training.\n",
      "Using 5 files for validation.\n"
     ]
    }
   ],
   "source": [
    "import tensorflow as tf\n",
    "\n",
    "train_imgs, val_imgs = tf.keras.utils.image_dataset_from_directory(\n",
    "  IMGS_DIR,\n",
    "  validation_split=0.15,\n",
    "  subset=\"both\",\n",
    "  seed=SEED,\n",
    "  image_size=IMG_SIZE,\n",
    "  batch_size=BATCH_SIZE)\n",
    "\n",
    "train_msks, val_msks = tf.keras.utils.image_dataset_from_directory(\n",
    "  MSKS_DIR,\n",
    "  validation_split=0.15,\n",
    "  subset=\"both\",\n",
    "  color_mode='grayscale',\n",
    "  seed=SEED,\n",
    "  image_size=IMG_SIZE,\n",
    "  batch_size=BATCH_SIZE)"
   ]
  },
  {
   "cell_type": "code",
   "execution_count": 43,
   "id": "20afd7ff-d9a5-4d2b-b477-e44698e454c6",
   "metadata": {},
   "outputs": [],
   "source": [
    "import matplotlib.pyplot as plt\n",
    "import matplotlib.gridspec as gridspec    # configurar grelha de graficos\n",
    "import cv2                                # visão artificial, manipulacão de imagens\n",
    "import numpy as np\n",
    "\n",
    "def analisa_img(img_caminho, val_unic = False):\n",
    "    \"\"\"\n",
    "    Analisa propriedades duma imagem.\n",
    "\n",
    "    Parâmetros:\n",
    "      img_caminho{str}: caminho do ficheiro da imagem\n",
    "      val_unic{bool}: True: imprime valores de pixel unicos; False: nao imprime \n",
    "\n",
    "    \"\"\"\n",
    "    fig = plt.figure(figsize=(20,15), constrained_layout=False)\n",
    "    gs = gridspec.GridSpec(nrows = 2, ncols= 3, )\n",
    "    gs.update(hspace=0.05, wspace=0.15)\n",
    "\n",
    "    img = cv2.imread(img_caminho)\n",
    "    img=  cv2.cvtColor(img, cv2.COLOR_RGB2BGR)\n",
    "    print(f'Imagem com {os.path.getsize(img_caminho)} bytes')\n",
    "    print(f'Tipo de imagem: {type(img)}') \n",
    "    print(f'Dimensoes da imagem (Altura, Largura, Canais): {img.shape}')\n",
    "    print(f'Valor pixel maximo [{img.max()}] e minimo [{img.min()}]')\n",
    "    if val_unic == True:\n",
    "        print(f'Valores unicos {np.unique(img)}')\n",
    "\n",
    "    ax1 = fig.add_subplot(gs[0, 0])\n",
    "    ax1.set_title(f'Ficheiro: \"{os.path.basename(img_caminho)} \"')\n",
    "    ax1.set_ylabel('Largura {}'.format(img.shape[1])) \n",
    "    ax1.set_xlabel('Altura {}'.format(img.shape[0])) \n",
    "    ax1.imshow(img)\n",
    "\n",
    "    ax2 = fig.add_subplot(gs[0, 1:])\n",
    "    color = ('b','g','r')\n",
    "    for channel,col in enumerate(color):\n",
    "        histr = cv2.calcHist([img],[channel],None,[256],[0,256])\n",
    "        ax2.plot(histr,color = col)\n",
    "        ax2.set_xlim([0,256])\n",
    "        ax2.legend(['Canal AZUL', 'Canal VERDE', 'Canal VERMELHO'])\n",
    "    ax2.set_title('Histograma para imagens RGB')\n",
    "\n",
    "    ax3 = fig.add_subplot(gs[1, 0])\n",
    "    ax3.set_title('Canal VERMELHO') \n",
    "    ax3.set_ylabel('Largura {}'.format(img.shape[1])) \n",
    "    ax3.set_xlabel('Altura {}'.format(img.shape[0])) \n",
    "    ax3.imshow(img[ : , : , 0], cmap = 'gray')\n",
    "\n",
    "    ax4 = fig.add_subplot(gs[1, 1])\n",
    "    ax4.set_title('Canal VERDE') \n",
    "    ax4.set_ylabel('Largura {}'.format(img.shape[1])) \n",
    "    ax4.set_xlabel('Altura {}'.format(img.shape[0])) \n",
    "    ax4.imshow(img[ : , : , 1], cmap = 'gray')\n",
    "\n",
    "    ax5 = fig.add_subplot(gs[1, 2])\n",
    "    ax5.set_title('Canal AZUL') \n",
    "    ax5.set_ylabel('Largura {}'.format(img.shape[1])) \n",
    "    ax5.set_xlabel('Altura {}'.format(img.shape[0])) \n",
    "    ax5.imshow(img[ : , : , 2], cmap = 'gray')\n"
   ]
  },
  {
   "cell_type": "code",
   "execution_count": 44,
   "id": "5e6e1a66-a71d-46e3-b853-4378b8bbfdd3",
   "metadata": {},
   "outputs": [
    {
     "name": "stdout",
     "output_type": "stream",
     "text": [
      "Imagem com 637 bytes\n",
      "Tipo de imagem: <class 'numpy.ndarray'>\n",
      "Dimensoes da imagem (Altura, Largura, Canais): (600, 800, 3)\n",
      "Valor pixel maximo [255] e minimo [0]\n",
      "Valores unicos [  0   5   8  16  17  77 183 255]\n"
     ]
    },
    {
     "data": {
      "image/png": "[encoded data removed]",
      "text/plain": [
       "<Figure size 2000x1500 with 5 Axes>"
      ]
     },
     "metadata": {},
     "output_type": "display_data"
    }
   ],
   "source": [
    "analisa_img('teste_RGB.png', val_unic = True)"
   ]
  },
  {
   "cell_type": "markdown",
   "id": "c06fcf6a-fbc0-4c4a-81df-d6dee8e76ab0",
   "metadata": {},
   "source": [
    "## Training Subset Mean and Standard Deviation Calculation"
   ]
  },
  {
   "cell_type": "code",
   "execution_count": 138,
   "id": "d964f777-337f-4230-a1f6-7e58f7c2d60a",
   "metadata": {},
   "outputs": [],
   "source": [
    "mean_list, std_list = list(), list()\n",
    "for msk_path in train_msks.file_paths:\n",
    "    msk_img = tf.keras.utils.load_img(msk_path, color_mode = \"grayscale\")\n",
    "    mean= np.mean(msk_img, axis=(0,1))\n",
    "    std = np.std(msk_img, axis=(0,1))\n",
    "    mean_list.append(mean)\n",
    "    std_list.append(std)\n",
    "mean_msks = np.mean(mean_list)\n",
    "std_msks = np.std(std_list)"
   ]
  },
  {
   "cell_type": "code",
   "execution_count": 139,
   "id": "1fb0dc86-579a-490e-88f3-df4a109821e9",
   "metadata": {},
   "outputs": [],
   "source": [
    "mean_list, std_list = list(), list()\n",
    "for img_path in train_imgs.file_paths:\n",
    "    img = tf.keras.utils.load_img(img_path, color_mode = \"rgb\")\n",
    "    mean = np.mean(img, axis=(0,1))\n",
    "    std = np.std(img, axis=(0,1))\n",
    "    std_list.append(std)\n",
    "    mean_list.append(mean)\n",
    "mean_imgs = np.mean(mean_list, axis = 0)\n",
    "std_imgs = np.std(std_list, axis = 0)"
   ]
  },
  {
   "cell_type": "markdown",
   "id": "227c9d1d-02c0-4237-9e80-d279c8c5ce3d",
   "metadata": {},
   "source": [
    "# CONTINUAR: já se tem a média e desvio padrão agora é normalizar\n",
    "# https://keras.io/examples/vision/segformer/"
   ]
  },
  {
   "cell_type": "code",
   "execution_count": 53,
   "id": "48a49e4d-51a0-4000-abe7-be91f0542074",
   "metadata": {},
   "outputs": [
    {
     "data": {
      "text/plain": [
       "(600, 800, 3)"
      ]
     },
     "execution_count": 53,
     "metadata": {},
     "output_type": "execute_result"
    }
   ],
   "source": [
    "import numpy as np\n",
    "np.shape(msk_img)"
   ]
  },
  {
   "cell_type": "markdown",
   "id": "2d696be5-6057-4639-aa22-355bb86a2189",
   "metadata": {},
   "source": [
    "# SegFormer Model"
   ]
  },
  {
   "cell_type": "markdown",
   "id": "973db40e-dee5-4df6-b520-bd79afd5ba4b",
   "metadata": {},
   "source": [
    " ![](segformer.PNG \"SegFormer Diagram\")"
   ]
  },
  {
   "cell_type": "code",
   "execution_count": null,
   "id": "6f3fc39c-2f70-435d-aea2-12ae236edcbf",
   "metadata": {},
   "outputs": [],
   "source": [
    "# Calculate mean value for each channel (test set only)"
   ]
  },
  {
   "cell_type": "code",
   "execution_count": 13,
   "id": "87bd7499-f6e3-47e7-82bc-63b27f2e4694",
   "metadata": {},
   "outputs": [],
   "source": [
    "import tensorflow as tf\n",
    "from tensorflow.keras import backend"
   ]
  },
  {
   "cell_type": "code",
   "execution_count": null,
   "id": "533a434c-c1f3-4fe1-9700-520d0994f559",
   "metadata": {},
   "outputs": [],
   "source": [
    "import tensorflow as tf\n",
    "from tensorflow.keras import backend\n",
    "\n",
    "image_size = 512\n",
    "mean = tf.constant(mean_imgs)\n",
    "std = tf.constant(std_imgs)\n",
    "\n",
    "def normalize(input_image, input_mask):\n",
    "    input_image = tf.image.convert_image_dtype(input_image, tf.float32)\n",
    "    input_image = (input_image - mean) / tf.maximum(std, backend.epsilon())\n",
    "    input_mask = input_mask/255.0\n",
    "    input_mask -= 1\n",
    "    return input_image, input_mask\n",
    "\n",
    "\n",
    "def load_image(datapoint):\n",
    "    input_image = tf.image.resize(datapoint[\"image\"], (IMG_SIZE[0], IMG_SIZE[1]))\n",
    "    input_mask = tf.image.resize(\n",
    "        datapoint[\"segmentation_mask\"],\n",
    "        (image_size, image_size),\n",
    "        method=\"bilinear\",\n",
    "    )\n",
    "\n",
    "    input_image, input_mask = normalize(input_image, input_mask)\n",
    "    input_image = tf.transpose(input_image, (2, 0, 1))\n",
    "    return {\"pixel_values\": input_image, \"labels\": tf.squeeze(input_mask)}"
   ]
  },
  {
   "cell_type": "code",
   "execution_count": 145,
   "id": "f528b2aa-4314-4b26-8fab-a41660240c19",
   "metadata": {},
   "outputs": [
    {
     "data": {
      "text/plain": [
       "512"
      ]
     },
     "execution_count": 145,
     "metadata": {},
     "output_type": "execute_result"
    }
   ],
   "source": [
    "IMG_SIZE[1]"
   ]
  },
  {
   "cell_type": "code",
   "execution_count": 13,
   "id": "1109ba6d-cf86-4ee2-825a-67917e7387b9",
   "metadata": {},
   "outputs": [
    {
     "ename": "ValueError",
     "evalue": "Exception encountered when calling layer \"dwconv\" \"                 f\"(type TFSegformerDWConv).\n\nThe number of input channels must be evenly divisible by the number of groups. Received groups=128, but the input has 32 channels (full input shape is (3, 32, 128, 128)).\n\nCall arguments received by layer \"dwconv\" \"                 f\"(type TFSegformerDWConv):\n  • hidden_states=tf.Tensor(shape=(3, 4096, 128), dtype=float32)\n  • height=32\n  • width=128",
     "output_type": "error",
     "traceback": [
      "\u001b[1;31m---------------------------------------------------------------------------\u001b[0m",
      "\u001b[1;31mValueError\u001b[0m                                Traceback (most recent call last)",
      "Cell \u001b[1;32mIn [13], line 8\u001b[0m\n\u001b[0;32m      6\u001b[0m label2id \u001b[38;5;241m=\u001b[39m {label: \u001b[38;5;28mid\u001b[39m \u001b[38;5;28;01mfor\u001b[39;00m \u001b[38;5;28mid\u001b[39m, label \u001b[38;5;129;01min\u001b[39;00m id2label\u001b[38;5;241m.\u001b[39mitems()}\n\u001b[0;32m      7\u001b[0m num_labels \u001b[38;5;241m=\u001b[39m \u001b[38;5;28mlen\u001b[39m(id2label)\n\u001b[1;32m----> 8\u001b[0m model \u001b[38;5;241m=\u001b[39m \u001b[43mTFSegformerForSemanticSegmentation\u001b[49m\u001b[38;5;241;43m.\u001b[39;49m\u001b[43mfrom_pretrained\u001b[49m\u001b[43m(\u001b[49m\n\u001b[0;32m      9\u001b[0m \u001b[43m    \u001b[49m\u001b[43mmodel_checkpoint\u001b[49m\u001b[43m,\u001b[49m\n\u001b[0;32m     10\u001b[0m \u001b[43m    \u001b[49m\u001b[43mnum_labels\u001b[49m\u001b[38;5;241;43m=\u001b[39;49m\u001b[43mnum_labels\u001b[49m\u001b[43m,\u001b[49m\n\u001b[0;32m     11\u001b[0m \u001b[43m    \u001b[49m\u001b[43mid2label\u001b[49m\u001b[38;5;241;43m=\u001b[39;49m\u001b[43mid2label\u001b[49m\u001b[43m,\u001b[49m\n\u001b[0;32m     12\u001b[0m \u001b[43m    \u001b[49m\u001b[43mlabel2id\u001b[49m\u001b[38;5;241;43m=\u001b[39;49m\u001b[43mlabel2id\u001b[49m\u001b[43m,\u001b[49m\n\u001b[0;32m     13\u001b[0m \u001b[43m    \u001b[49m\u001b[43mignore_mismatched_sizes\u001b[49m\u001b[38;5;241;43m=\u001b[39;49m\u001b[38;5;28;43;01mTrue\u001b[39;49;00m\u001b[43m,\u001b[49m\n\u001b[0;32m     14\u001b[0m \u001b[43m)\u001b[49m\n",
      "File \u001b[1;32m~\\miniconda3\\envs\\tf2_10\\lib\\site-packages\\transformers\\modeling_tf_utils.py:2751\u001b[0m, in \u001b[0;36mTFPreTrainedModel.from_pretrained\u001b[1;34m(cls, pretrained_model_name_or_path, *model_args, **kwargs)\u001b[0m\n\u001b[0;32m   2749\u001b[0m         model(model\u001b[38;5;241m.\u001b[39mdummy_inputs)  \u001b[38;5;66;03m# build the network with dummy inputs\u001b[39;00m\n\u001b[0;32m   2750\u001b[0m \u001b[38;5;28;01melse\u001b[39;00m:\n\u001b[1;32m-> 2751\u001b[0m     \u001b[43mmodel\u001b[49m\u001b[43m(\u001b[49m\u001b[43mmodel\u001b[49m\u001b[38;5;241;43m.\u001b[39;49m\u001b[43mdummy_inputs\u001b[49m\u001b[43m)\u001b[49m  \u001b[38;5;66;03m# build the network with dummy inputs\u001b[39;00m\n\u001b[0;32m   2753\u001b[0m \u001b[38;5;28;01mif\u001b[39;00m safetensors_from_pt:\n\u001b[0;32m   2754\u001b[0m     \u001b[38;5;28;01mfrom\u001b[39;00m \u001b[38;5;21;01m.\u001b[39;00m\u001b[38;5;21;01mmodeling_tf_pytorch_utils\u001b[39;00m \u001b[38;5;28;01mimport\u001b[39;00m load_pytorch_state_dict_in_tf2_model\n",
      "File \u001b[1;32m~\\miniconda3\\envs\\tf2_10\\lib\\site-packages\\keras\\utils\\traceback_utils.py:70\u001b[0m, in \u001b[0;36mfilter_traceback.<locals>.error_handler\u001b[1;34m(*args, **kwargs)\u001b[0m\n\u001b[0;32m     67\u001b[0m     filtered_tb \u001b[38;5;241m=\u001b[39m _process_traceback_frames(e\u001b[38;5;241m.\u001b[39m__traceback__)\n\u001b[0;32m     68\u001b[0m     \u001b[38;5;66;03m# To get the full stack trace, call:\u001b[39;00m\n\u001b[0;32m     69\u001b[0m     \u001b[38;5;66;03m# `tf.debugging.disable_traceback_filtering()`\u001b[39;00m\n\u001b[1;32m---> 70\u001b[0m     \u001b[38;5;28;01mraise\u001b[39;00m e\u001b[38;5;241m.\u001b[39mwith_traceback(filtered_tb) \u001b[38;5;28;01mfrom\u001b[39;00m \u001b[38;5;28mNone\u001b[39m\n\u001b[0;32m     71\u001b[0m \u001b[38;5;28;01mfinally\u001b[39;00m:\n\u001b[0;32m     72\u001b[0m     \u001b[38;5;28;01mdel\u001b[39;00m filtered_tb\n",
      "File \u001b[1;32m~\\miniconda3\\envs\\tf2_10\\lib\\site-packages\\transformers\\modeling_tf_utils.py:433\u001b[0m, in \u001b[0;36munpack_inputs.<locals>.run_call_with_unpacked_inputs\u001b[1;34m(self, *args, **kwargs)\u001b[0m\n\u001b[0;32m    430\u001b[0m     config \u001b[38;5;241m=\u001b[39m \u001b[38;5;28mself\u001b[39m\u001b[38;5;241m.\u001b[39mconfig\n\u001b[0;32m    432\u001b[0m unpacked_inputs \u001b[38;5;241m=\u001b[39m input_processing(func, config, \u001b[38;5;241m*\u001b[39m\u001b[38;5;241m*\u001b[39mfn_args_and_kwargs)\n\u001b[1;32m--> 433\u001b[0m \u001b[38;5;28;01mreturn\u001b[39;00m func(\u001b[38;5;28mself\u001b[39m, \u001b[38;5;241m*\u001b[39m\u001b[38;5;241m*\u001b[39munpacked_inputs)\n",
      "File \u001b[1;32m~\\miniconda3\\envs\\tf2_10\\lib\\site-packages\\transformers\\models\\segformer\\modeling_tf_segformer.py:857\u001b[0m, in \u001b[0;36mTFSegformerForSemanticSegmentation.call\u001b[1;34m(self, pixel_values, labels, output_attentions, output_hidden_states, return_dict)\u001b[0m\n\u001b[0;32m    852\u001b[0m return_dict \u001b[38;5;241m=\u001b[39m return_dict \u001b[38;5;28;01mif\u001b[39;00m return_dict \u001b[38;5;129;01mis\u001b[39;00m \u001b[38;5;129;01mnot\u001b[39;00m \u001b[38;5;28;01mNone\u001b[39;00m \u001b[38;5;28;01melse\u001b[39;00m \u001b[38;5;28mself\u001b[39m\u001b[38;5;241m.\u001b[39mconfig\u001b[38;5;241m.\u001b[39muse_return_dict\n\u001b[0;32m    853\u001b[0m output_hidden_states \u001b[38;5;241m=\u001b[39m (\n\u001b[0;32m    854\u001b[0m     output_hidden_states \u001b[38;5;28;01mif\u001b[39;00m output_hidden_states \u001b[38;5;129;01mis\u001b[39;00m \u001b[38;5;129;01mnot\u001b[39;00m \u001b[38;5;28;01mNone\u001b[39;00m \u001b[38;5;28;01melse\u001b[39;00m \u001b[38;5;28mself\u001b[39m\u001b[38;5;241m.\u001b[39mconfig\u001b[38;5;241m.\u001b[39moutput_hidden_states\n\u001b[0;32m    855\u001b[0m )\n\u001b[1;32m--> 857\u001b[0m outputs \u001b[38;5;241m=\u001b[39m \u001b[38;5;28;43mself\u001b[39;49m\u001b[38;5;241;43m.\u001b[39;49m\u001b[43msegformer\u001b[49m\u001b[43m(\u001b[49m\n\u001b[0;32m    858\u001b[0m \u001b[43m    \u001b[49m\u001b[43mpixel_values\u001b[49m\u001b[43m,\u001b[49m\n\u001b[0;32m    859\u001b[0m \u001b[43m    \u001b[49m\u001b[43moutput_attentions\u001b[49m\u001b[38;5;241;43m=\u001b[39;49m\u001b[43moutput_attentions\u001b[49m\u001b[43m,\u001b[49m\n\u001b[0;32m    860\u001b[0m \u001b[43m    \u001b[49m\u001b[43moutput_hidden_states\u001b[49m\u001b[38;5;241;43m=\u001b[39;49m\u001b[38;5;28;43;01mTrue\u001b[39;49;00m\u001b[43m,\u001b[49m\u001b[43m  \u001b[49m\u001b[38;5;66;43;03m# we need the intermediate hidden states\u001b[39;49;00m\n\u001b[0;32m    861\u001b[0m \u001b[43m    \u001b[49m\u001b[43mreturn_dict\u001b[49m\u001b[38;5;241;43m=\u001b[39;49m\u001b[43mreturn_dict\u001b[49m\u001b[43m,\u001b[49m\n\u001b[0;32m    862\u001b[0m \u001b[43m\u001b[49m\u001b[43m)\u001b[49m\n\u001b[0;32m    864\u001b[0m encoder_hidden_states \u001b[38;5;241m=\u001b[39m outputs\u001b[38;5;241m.\u001b[39mhidden_states \u001b[38;5;28;01mif\u001b[39;00m return_dict \u001b[38;5;28;01melse\u001b[39;00m outputs[\u001b[38;5;241m1\u001b[39m]\n\u001b[0;32m    866\u001b[0m logits \u001b[38;5;241m=\u001b[39m \u001b[38;5;28mself\u001b[39m\u001b[38;5;241m.\u001b[39mdecode_head(encoder_hidden_states)\n",
      "File \u001b[1;32m~\\miniconda3\\envs\\tf2_10\\lib\\site-packages\\transformers\\modeling_tf_utils.py:433\u001b[0m, in \u001b[0;36munpack_inputs.<locals>.run_call_with_unpacked_inputs\u001b[1;34m(self, *args, **kwargs)\u001b[0m\n\u001b[0;32m    430\u001b[0m     config \u001b[38;5;241m=\u001b[39m \u001b[38;5;28mself\u001b[39m\u001b[38;5;241m.\u001b[39mconfig\n\u001b[0;32m    432\u001b[0m unpacked_inputs \u001b[38;5;241m=\u001b[39m input_processing(func, config, \u001b[38;5;241m*\u001b[39m\u001b[38;5;241m*\u001b[39mfn_args_and_kwargs)\n\u001b[1;32m--> 433\u001b[0m \u001b[38;5;28;01mreturn\u001b[39;00m func(\u001b[38;5;28mself\u001b[39m, \u001b[38;5;241m*\u001b[39m\u001b[38;5;241m*\u001b[39munpacked_inputs)\n",
      "File \u001b[1;32m~\\miniconda3\\envs\\tf2_10\\lib\\site-packages\\transformers\\models\\segformer\\modeling_tf_segformer.py:481\u001b[0m, in \u001b[0;36mTFSegformerMainLayer.call\u001b[1;34m(self, pixel_values, output_attentions, output_hidden_states, return_dict, training)\u001b[0m\n\u001b[0;32m    476\u001b[0m \u001b[38;5;66;03m# When running on CPU, `tf.keras.layers.Conv2D` doesn't support `NCHW` format.\u001b[39;00m\n\u001b[0;32m    477\u001b[0m \u001b[38;5;66;03m# So change the input format from `NCHW` to `NHWC`.\u001b[39;00m\n\u001b[0;32m    478\u001b[0m \u001b[38;5;66;03m# shape = (batch_size, in_height, in_width, in_channels=num_channels)\u001b[39;00m\n\u001b[0;32m    479\u001b[0m pixel_values \u001b[38;5;241m=\u001b[39m tf\u001b[38;5;241m.\u001b[39mtranspose(pixel_values, perm\u001b[38;5;241m=\u001b[39m(\u001b[38;5;241m0\u001b[39m, \u001b[38;5;241m2\u001b[39m, \u001b[38;5;241m3\u001b[39m, \u001b[38;5;241m1\u001b[39m))\n\u001b[1;32m--> 481\u001b[0m encoder_outputs \u001b[38;5;241m=\u001b[39m \u001b[38;5;28;43mself\u001b[39;49m\u001b[38;5;241;43m.\u001b[39;49m\u001b[43mencoder\u001b[49m\u001b[43m(\u001b[49m\n\u001b[0;32m    482\u001b[0m \u001b[43m    \u001b[49m\u001b[43mpixel_values\u001b[49m\u001b[43m,\u001b[49m\n\u001b[0;32m    483\u001b[0m \u001b[43m    \u001b[49m\u001b[43moutput_attentions\u001b[49m\u001b[38;5;241;43m=\u001b[39;49m\u001b[43moutput_attentions\u001b[49m\u001b[43m,\u001b[49m\n\u001b[0;32m    484\u001b[0m \u001b[43m    \u001b[49m\u001b[43moutput_hidden_states\u001b[49m\u001b[38;5;241;43m=\u001b[39;49m\u001b[43moutput_hidden_states\u001b[49m\u001b[43m,\u001b[49m\n\u001b[0;32m    485\u001b[0m \u001b[43m    \u001b[49m\u001b[43mreturn_dict\u001b[49m\u001b[38;5;241;43m=\u001b[39;49m\u001b[43mreturn_dict\u001b[49m\u001b[43m,\u001b[49m\n\u001b[0;32m    486\u001b[0m \u001b[43m    \u001b[49m\u001b[43mtraining\u001b[49m\u001b[38;5;241;43m=\u001b[39;49m\u001b[43mtraining\u001b[49m\u001b[43m,\u001b[49m\n\u001b[0;32m    487\u001b[0m \u001b[43m\u001b[49m\u001b[43m)\u001b[49m\n\u001b[0;32m    488\u001b[0m sequence_output \u001b[38;5;241m=\u001b[39m encoder_outputs[\u001b[38;5;241m0\u001b[39m]\n\u001b[0;32m    489\u001b[0m \u001b[38;5;66;03m# Change to NCHW output format to have uniformity in the modules\u001b[39;00m\n",
      "File \u001b[1;32m~\\miniconda3\\envs\\tf2_10\\lib\\site-packages\\transformers\\models\\segformer\\modeling_tf_segformer.py:421\u001b[0m, in \u001b[0;36mTFSegformerEncoder.call\u001b[1;34m(self, pixel_values, output_attentions, output_hidden_states, return_dict, training)\u001b[0m\n\u001b[0;32m    418\u001b[0m \u001b[38;5;66;03m# second, send embeddings through blocks\u001b[39;00m\n\u001b[0;32m    419\u001b[0m \u001b[38;5;66;03m# (each block consists of multiple layers i.e., list of layers)\u001b[39;00m\n\u001b[0;32m    420\u001b[0m \u001b[38;5;28;01mfor\u001b[39;00m i, blk \u001b[38;5;129;01min\u001b[39;00m \u001b[38;5;28menumerate\u001b[39m(block_layer):\n\u001b[1;32m--> 421\u001b[0m     layer_outputs \u001b[38;5;241m=\u001b[39m \u001b[43mblk\u001b[49m\u001b[43m(\u001b[49m\n\u001b[0;32m    422\u001b[0m \u001b[43m        \u001b[49m\u001b[43mhidden_states\u001b[49m\u001b[43m,\u001b[49m\n\u001b[0;32m    423\u001b[0m \u001b[43m        \u001b[49m\u001b[43mheight\u001b[49m\u001b[43m,\u001b[49m\n\u001b[0;32m    424\u001b[0m \u001b[43m        \u001b[49m\u001b[43mwidth\u001b[49m\u001b[43m,\u001b[49m\n\u001b[0;32m    425\u001b[0m \u001b[43m        \u001b[49m\u001b[43moutput_attentions\u001b[49m\u001b[43m,\u001b[49m\n\u001b[0;32m    426\u001b[0m \u001b[43m        \u001b[49m\u001b[43mtraining\u001b[49m\u001b[38;5;241;43m=\u001b[39;49m\u001b[43mtraining\u001b[49m\u001b[43m,\u001b[49m\n\u001b[0;32m    427\u001b[0m \u001b[43m    \u001b[49m\u001b[43m)\u001b[49m\n\u001b[0;32m    428\u001b[0m     hidden_states \u001b[38;5;241m=\u001b[39m layer_outputs[\u001b[38;5;241m0\u001b[39m]\n\u001b[0;32m    429\u001b[0m     \u001b[38;5;28;01mif\u001b[39;00m output_attentions:\n",
      "File \u001b[1;32m~\\miniconda3\\envs\\tf2_10\\lib\\site-packages\\transformers\\models\\segformer\\modeling_tf_segformer.py:337\u001b[0m, in \u001b[0;36mTFSegformerLayer.call\u001b[1;34m(self, hidden_states, height, width, output_attentions, training)\u001b[0m\n\u001b[0;32m    335\u001b[0m attention_output \u001b[38;5;241m=\u001b[39m \u001b[38;5;28mself\u001b[39m\u001b[38;5;241m.\u001b[39mdrop_path(attention_output, training\u001b[38;5;241m=\u001b[39mtraining)\n\u001b[0;32m    336\u001b[0m hidden_states \u001b[38;5;241m=\u001b[39m attention_output \u001b[38;5;241m+\u001b[39m hidden_states\n\u001b[1;32m--> 337\u001b[0m mlp_output \u001b[38;5;241m=\u001b[39m \u001b[38;5;28;43mself\u001b[39;49m\u001b[38;5;241;43m.\u001b[39;49m\u001b[43mmlp\u001b[49m\u001b[43m(\u001b[49m\u001b[38;5;28;43mself\u001b[39;49m\u001b[38;5;241;43m.\u001b[39;49m\u001b[43mlayer_norm_2\u001b[49m\u001b[43m(\u001b[49m\u001b[43mhidden_states\u001b[49m\u001b[43m)\u001b[49m\u001b[43m,\u001b[49m\u001b[43m \u001b[49m\u001b[43mheight\u001b[49m\u001b[43m,\u001b[49m\u001b[43m \u001b[49m\u001b[43mwidth\u001b[49m\u001b[43m)\u001b[49m\n\u001b[0;32m    339\u001b[0m \u001b[38;5;66;03m# second residual connection (with stochastic depth)\u001b[39;00m\n\u001b[0;32m    340\u001b[0m mlp_output \u001b[38;5;241m=\u001b[39m \u001b[38;5;28mself\u001b[39m\u001b[38;5;241m.\u001b[39mdrop_path(mlp_output, training\u001b[38;5;241m=\u001b[39mtraining)\n",
      "File \u001b[1;32m~\\miniconda3\\envs\\tf2_10\\lib\\site-packages\\transformers\\models\\segformer\\modeling_tf_segformer.py:280\u001b[0m, in \u001b[0;36mTFSegformerMixFFN.call\u001b[1;34m(self, hidden_states, height, width, training)\u001b[0m\n\u001b[0;32m    278\u001b[0m \u001b[38;5;28;01mdef\u001b[39;00m \u001b[38;5;21mcall\u001b[39m(\u001b[38;5;28mself\u001b[39m, hidden_states: tf\u001b[38;5;241m.\u001b[39mTensor, height: \u001b[38;5;28mint\u001b[39m, width: \u001b[38;5;28mint\u001b[39m, training: \u001b[38;5;28mbool\u001b[39m \u001b[38;5;241m=\u001b[39m \u001b[38;5;28;01mFalse\u001b[39;00m) \u001b[38;5;241m-\u001b[39m\u001b[38;5;241m>\u001b[39m tf\u001b[38;5;241m.\u001b[39mTensor:\n\u001b[0;32m    279\u001b[0m     hidden_states \u001b[38;5;241m=\u001b[39m \u001b[38;5;28mself\u001b[39m\u001b[38;5;241m.\u001b[39mdense1(hidden_states)\n\u001b[1;32m--> 280\u001b[0m     hidden_states \u001b[38;5;241m=\u001b[39m \u001b[38;5;28;43mself\u001b[39;49m\u001b[38;5;241;43m.\u001b[39;49m\u001b[43mdepthwise_convolution\u001b[49m\u001b[43m(\u001b[49m\u001b[43mhidden_states\u001b[49m\u001b[43m,\u001b[49m\u001b[43m \u001b[49m\u001b[43mheight\u001b[49m\u001b[43m,\u001b[49m\u001b[43m \u001b[49m\u001b[43mwidth\u001b[49m\u001b[43m)\u001b[49m\n\u001b[0;32m    281\u001b[0m     hidden_states \u001b[38;5;241m=\u001b[39m \u001b[38;5;28mself\u001b[39m\u001b[38;5;241m.\u001b[39mintermediate_act_fn(hidden_states)\n\u001b[0;32m    282\u001b[0m     hidden_states \u001b[38;5;241m=\u001b[39m \u001b[38;5;28mself\u001b[39m\u001b[38;5;241m.\u001b[39mdropout(hidden_states, training\u001b[38;5;241m=\u001b[39mtraining)\n",
      "File \u001b[1;32m~\\miniconda3\\envs\\tf2_10\\lib\\site-packages\\transformers\\models\\segformer\\modeling_tf_segformer.py:249\u001b[0m, in \u001b[0;36mTFSegformerDWConv.call\u001b[1;34m(self, hidden_states, height, width)\u001b[0m\n\u001b[0;32m    247\u001b[0m num_channels \u001b[38;5;241m=\u001b[39m shape_list(hidden_states)[\u001b[38;5;241m-\u001b[39m\u001b[38;5;241m1\u001b[39m]\n\u001b[0;32m    248\u001b[0m hidden_states \u001b[38;5;241m=\u001b[39m tf\u001b[38;5;241m.\u001b[39mreshape(hidden_states, (batch_size, height, width, num_channels))\n\u001b[1;32m--> 249\u001b[0m hidden_states \u001b[38;5;241m=\u001b[39m \u001b[38;5;28;43mself\u001b[39;49m\u001b[38;5;241;43m.\u001b[39;49m\u001b[43mdepthwise_convolution\u001b[49m\u001b[43m(\u001b[49m\u001b[43mhidden_states\u001b[49m\u001b[43m)\u001b[49m\n\u001b[0;32m    251\u001b[0m new_height \u001b[38;5;241m=\u001b[39m shape_list(hidden_states)[\u001b[38;5;241m1\u001b[39m]\n\u001b[0;32m    252\u001b[0m new_width \u001b[38;5;241m=\u001b[39m shape_list(hidden_states)[\u001b[38;5;241m2\u001b[39m]\n",
      "\u001b[1;31mValueError\u001b[0m: Exception encountered when calling layer \"dwconv\" \"                 f\"(type TFSegformerDWConv).\n\nThe number of input channels must be evenly divisible by the number of groups. Received groups=128, but the input has 32 channels (full input shape is (3, 32, 128, 128)).\n\nCall arguments received by layer \"dwconv\" \"                 f\"(type TFSegformerDWConv):\n  • hidden_states=tf.Tensor(shape=(3, 4096, 128), dtype=float32)\n  • height=32\n  • width=128"
     ]
    }
   ],
   "source": [
    "from transformers import TFSegformerForSemanticSegmentation\n",
    "\n",
    "model_checkpoint = \"nvidia/mit-b0\"\n",
    "\n",
    "id2label = {0: \"background\", 1: \"reef\"}\n",
    "label2id = {label: id for id, label in id2label.items()}\n",
    "num_labels = len(id2label)\n",
    "model = TFSegformerForSemanticSegmentation.from_pretrained(\n",
    "    model_checkpoint,\n",
    "    num_labels=num_labels,\n",
    "    id2label=id2label,\n",
    "    label2id=label2id,\n",
    "    ignore_mismatched_sizes=True,\n",
    ")"
   ]
  },
  {
   "cell_type": "code",
   "execution_count": null,
   "id": "abcef3f7-4c7e-48ba-a04c-638fdbc0e688",
   "metadata": {},
   "outputs": [],
   "source": [
    "from tensorflow.keras.optimizers import Adam\n",
    "from segmentation_models.metrics import iou_score        # test different iou score calculation\n",
    "# from tensorflow.keras.metrics import MeanIoU           # or Jaccard Index\n",
    "from tensorflow.keras.metrics import Precision         \n",
    "from tensorflow.keras.metrics import Recall         \n",
    "model.compile(optimizer = Adam(learning_rate=0.001), \n",
    "              loss = 'binary_crossentropy',\n",
    "              metrics= ['accuracy', Precision(thresholds=0.5), Recall(thresholds=0.5)]\n",
    "             )"
   ]
  },
  {
   "cell_type": "code",
   "execution_count": 12,
   "id": "48d06611-c99e-452a-b8f0-d112e6760c75",
   "metadata": {},
   "outputs": [],
   "source": [
    "def string_run(model_name = 'NET', fold = [], val_cruz = False):\n",
    "    \"\"\"\n",
    "    Creates a string for the run.\n",
    "    \"\"\"\n",
    "    from datetime import datetime\n",
    "    now = datetime.now()\n",
    "    dt_string = now.strftime(\"%d_%b_%Hh%Mmin\")\n",
    "    str_run = f\"{model_name}_DT_{dt_string}\"\n",
    "    if val_cruz == True:\n",
    "        str_run = str_run + \"_fold_\" + str(fold)\n",
    "    print(f'run designation: \\033[1m{str_run}\\033[0m')\n",
    "    return str_run"
   ]
  },
  {
   "cell_type": "markdown",
   "id": "6c765ed7-79b7-4c28-80f0-4a3e8aa3ff47",
   "metadata": {},
   "source": [
    "# Data Augmentation"
   ]
  },
  {
   "cell_type": "markdown",
   "id": "9d4c38b4-8118-4bf7-acdf-28128bbb2743",
   "metadata": {},
   "source": [
    "## Images Data Augmentation"
   ]
  },
  {
   "cell_type": "code",
   "execution_count": 9,
   "id": "f446fecc-729a-4380-8546-c8cd2805b94e",
   "metadata": {},
   "outputs": [
    {
     "name": "stdout",
     "output_type": "stream",
     "text": [
      "Found 31 images belonging to 1 classes.\n",
      "Found 5 images belonging to 1 classes.\n"
     ]
    }
   ],
   "source": [
    "# https://www.tensorflow.org/api_docs/python/tf/keras/preprocessing/image/ImageDataGenerator\n",
    "# https://stackoverflow.com/questions/56517963/keras-imagedatagenerator-for-segmentation-with-images-and-masks-in-separate-dire\n",
    "from keras.preprocessing.image import ImageDataGenerator\n",
    "\n",
    "img_gen = ImageDataGenerator(samplewise_center=True,\n",
    "                             samplewise_std_normalization=True,\n",
    "                             rotation_range = 30,\n",
    "                             shear_range = 0.3,\n",
    "                             fill_mode='reflect',        # \"constant\", \"nearest\", \"reflect\" or \"wrap\"\n",
    "                             horizontal_flip=True, \n",
    "                             zoom_range = [0.4, 1],\n",
    "                             brightness_range=[0.5,1.2],\n",
    "                             data_format=\"channels_first\",\n",
    "                             validation_split = 0.15,\n",
    "                             rescale=1./255)\n",
    "\n",
    "img_gen_valid = ImageDataGenerator(samplewise_center=True,\n",
    "                                   samplewise_std_normalization=True,\n",
    "                                   data_format=\"channels_first\",\n",
    "                                   validation_split = 0.15,\n",
    "                                   rescale=1./255)\n",
    "\n",
    "img_trn_dset = img_gen.flow_from_directory(directory = IMGS_DIR,\n",
    "                                           batch_size = BATCH_SIZE,\n",
    "                                           target_size = IMG_SIZE,\n",
    "                                           color_mode=\"rgb\",\n",
    "                                           class_mode=None,\n",
    "                                           subset=\"training\",\n",
    "                                           seed = SEED)\n",
    "\n",
    "img_vld_dset = img_gen_valid.flow_from_directory(directory = IMGS_DIR,\n",
    "                                                 batch_size = BATCH_SIZE,\n",
    "                                                 target_size = IMG_SIZE,\n",
    "                                                 color_mode=\"rgb\",\n",
    "                                                 class_mode=None,\n",
    "                                                 subset=\"validation\",\n",
    "                                                 seed = SEED)"
   ]
  },
  {
   "cell_type": "markdown",
   "id": "e408c1f4-aceb-442a-b246-50dbc95d48e8",
   "metadata": {},
   "source": [
    "## Masks Data Augmentation"
   ]
  },
  {
   "cell_type": "code",
   "execution_count": 10,
   "id": "fef7d56a-935d-4ef1-9419-3be9e8311bb3",
   "metadata": {},
   "outputs": [
    {
     "name": "stdout",
     "output_type": "stream",
     "text": [
      "Found 31 images belonging to 1 classes.\n",
      "Found 5 images belonging to 1 classes.\n"
     ]
    }
   ],
   "source": [
    "msk_gen = ImageDataGenerator(samplewise_center=True,\n",
    "                             samplewise_std_normalization=True,\n",
    "                             rotation_range = 30,\n",
    "                             shear_range = 0.3,\n",
    "                             fill_mode='reflect',        # \"constant\", \"nearest\", \"reflect\" or \"wrap\"\n",
    "                             horizontal_flip=True, \n",
    "                             zoom_range = [0.5, 1],\n",
    "                             data_format=\"channels_first\",\n",
    "                             validation_split = 0.15,\n",
    "                             rescale=1./255\n",
    "                            )\n",
    "\n",
    "# msk_gen.fit()\n",
    "\n",
    "# print('Data Generator mean=%.3f, std=%.3f' % (msk_gen.mean, msk_gen.std))\n",
    "\n",
    "msk_gen_valid = ImageDataGenerator(samplewise_center=True,\n",
    "                                   samplewise_std_normalization=True,\n",
    "                                   data_format=\"channels_first\",\n",
    "                                   validation_split = 0.15,\n",
    "                                   rescale=1./255)\n",
    "\n",
    "msk_trn_dset = msk_gen.flow_from_directory(directory = MSKS_DIR,\n",
    "                                           batch_size = BATCH_SIZE,\n",
    "                                           target_size = IMG_SIZE,\n",
    "                                           color_mode=\"grayscale\",\n",
    "                                           class_mode=None,\n",
    "                                           subset=\"training\",\n",
    "                                           seed = SEED)\n",
    "\n",
    "msk_vld_dset = msk_gen_valid.flow_from_directory(directory = MSKS_DIR,\n",
    "                                                 batch_size = BATCH_SIZE,\n",
    "                                                 target_size = IMG_SIZE,\n",
    "                                                 color_mode=\"grayscale\",\n",
    "                                                 class_mode=None,\n",
    "                                                 subset=\"validation\",\n",
    "                                                 seed = SEED)"
   ]
  },
  {
   "cell_type": "code",
   "execution_count": 11,
   "id": "7609fb10-49f9-4735-b040-a0a1f838e861",
   "metadata": {},
   "outputs": [
    {
     "ename": "NameError",
     "evalue": "name 'string_run' is not defined",
     "output_type": "error",
     "traceback": [
      "\u001b[1;31m---------------------------------------------------------------------------\u001b[0m",
      "\u001b[1;31mNameError\u001b[0m                                 Traceback (most recent call last)",
      "Cell \u001b[1;32mIn [11], line 1\u001b[0m\n\u001b[1;32m----> 1\u001b[0m str_run \u001b[38;5;241m=\u001b[39m \u001b[43mstring_run\u001b[49m(model_name \u001b[38;5;241m=\u001b[39m \u001b[38;5;124m'\u001b[39m\u001b[38;5;124mSegFormer\u001b[39m\u001b[38;5;124m'\u001b[39m)\n\u001b[0;32m      2\u001b[0m reduce_lr \u001b[38;5;241m=\u001b[39m tf\u001b[38;5;241m.\u001b[39mkeras\u001b[38;5;241m.\u001b[39mcallbacks\u001b[38;5;241m.\u001b[39mReduceLROnPlateau(monitor \u001b[38;5;241m=\u001b[39m \u001b[38;5;124m'\u001b[39m\u001b[38;5;124mloss\u001b[39m\u001b[38;5;124m'\u001b[39m,\n\u001b[0;32m      3\u001b[0m                                               factor \u001b[38;5;241m=\u001b[39m \u001b[38;5;241m0.5\u001b[39m,    \u001b[38;5;66;03m# fator de reducao tx. aprendizagem\u001b[39;00m\n\u001b[0;32m      4\u001b[0m                                               mode \u001b[38;5;241m=\u001b[39m \u001b[38;5;124m'\u001b[39m\u001b[38;5;124mmin\u001b[39m\u001b[38;5;124m'\u001b[39m,    \u001b[38;5;66;03m# tx. apr. diminui se IoU nao aumentar\u001b[39;00m\n\u001b[0;32m      5\u001b[0m                                               patience \u001b[38;5;241m=\u001b[39m \u001b[38;5;241m20\u001b[39m,   \u001b[38;5;66;03m# epocas ate reducao tx. aprendizagem\u001b[39;00m\n\u001b[0;32m      6\u001b[0m                                               verbose \u001b[38;5;241m=\u001b[39m \u001b[38;5;241m1\u001b[39m,     \u001b[38;5;66;03m# verbosidade\u001b[39;00m\n\u001b[0;32m      7\u001b[0m                                               min_lr \u001b[38;5;241m=\u001b[39m \u001b[38;5;241m1e-6\u001b[39m)   \u001b[38;5;66;03m# tx.aprendizagem inicial = 0.1\u001b[39;00m\n\u001b[0;32m      9\u001b[0m chckpnt_cb \u001b[38;5;241m=\u001b[39m tf\u001b[38;5;241m.\u001b[39mkeras\u001b[38;5;241m.\u001b[39mcallbacks\u001b[38;5;241m.\u001b[39mModelCheckpoint(filepath \u001b[38;5;241m=\u001b[39m os\u001b[38;5;241m.\u001b[39mpath\u001b[38;5;241m.\u001b[39mjoin(CHCKPNT_MODELS, str_run \u001b[38;5;241m+\u001b[39m \u001b[38;5;124m'\u001b[39m\u001b[38;5;124m.h5\u001b[39m\u001b[38;5;124m'\u001b[39m),\n\u001b[0;32m     10\u001b[0m                                              save_best_only \u001b[38;5;241m=\u001b[39m \u001b[38;5;28;01mTrue\u001b[39;00m,\n\u001b[0;32m     11\u001b[0m                                              mode \u001b[38;5;241m=\u001b[39m \u001b[38;5;124m'\u001b[39m\u001b[38;5;124mmax\u001b[39m\u001b[38;5;124m'\u001b[39m,\n\u001b[0;32m     12\u001b[0m                                              verbose \u001b[38;5;241m=\u001b[39m \u001b[38;5;241m1\u001b[39m, \n\u001b[0;32m     13\u001b[0m                                              monitor \u001b[38;5;241m=\u001b[39m \u001b[38;5;124m\"\u001b[39m\u001b[38;5;124mval_accuracy\u001b[39m\u001b[38;5;124m\"\u001b[39m)\n",
      "\u001b[1;31mNameError\u001b[0m: name 'string_run' is not defined"
     ]
    }
   ],
   "source": [
    "str_run = string_run(model_name = 'SegFormer')\n",
    "reduce_lr = tf.keras.callbacks.ReduceLROnPlateau(monitor = 'loss',\n",
    "                                              factor = 0.5,    # fator de reducao tx. aprendizagem\n",
    "                                              mode = 'min',    # tx. apr. diminui se IoU nao aumentar\n",
    "                                              patience = 20,   # epocas ate reducao tx. aprendizagem\n",
    "                                              verbose = 1,     # verbosidade\n",
    "                                              min_lr = 1e-6)   # tx.aprendizagem inicial = 0.1\n",
    "\n",
    "chckpnt_cb = tf.keras.callbacks.ModelCheckpoint(filepath = os.path.join(CHCKPNT_MODELS, str_run + '.h5'),\n",
    "                                             save_best_only = True,\n",
    "                                             mode = 'max',\n",
    "                                             verbose = 1, \n",
    "                                             monitor = \"val_accuracy\")"
   ]
  },
  {
   "cell_type": "code",
   "execution_count": 150,
   "id": "7d530d6f-a29d-49dd-adbf-e01cfe66664e",
   "metadata": {},
   "outputs": [],
   "source": [
    "train_generator = zip(img_trn_dset, msk_trn_dset)\n",
    "valid_generator = zip(img_vld_dset, msk_vld_dset)"
   ]
  },
  {
   "cell_type": "code",
   "execution_count": 151,
   "id": "8ae3693e-fe3e-4d3b-ba3e-2267063195a0",
   "metadata": {},
   "outputs": [
    {
     "name": "stdout",
     "output_type": "stream",
     "text": [
      "Epoch 1/1000\n"
     ]
    },
    {
     "ename": "InvalidArgumentError",
     "evalue": "Graph execution error:\n\nDetected at node 'tf_segformer_for_semantic_segmentation/segformer/encoder/patch_embeddings.0/proj/Conv2D' defined at (most recent call last):\n    File \"C:\\Users\\tiago\\miniconda3\\envs\\tf2_10\\lib\\runpy.py\", line 196, in _run_module_as_main\n      return _run_code(code, main_globals, None,\n    File \"C:\\Users\\tiago\\miniconda3\\envs\\tf2_10\\lib\\runpy.py\", line 86, in _run_code\n      exec(code, run_globals)\n    File \"C:\\Users\\tiago\\miniconda3\\envs\\tf2_10\\lib\\site-packages\\ipykernel_launcher.py\", line 17, in <module>\n      app.launch_new_instance()\n    File \"C:\\Users\\tiago\\miniconda3\\envs\\tf2_10\\lib\\site-packages\\traitlets\\config\\application.py\", line 846, in launch_instance\n      app.start()\n    File \"C:\\Users\\tiago\\miniconda3\\envs\\tf2_10\\lib\\site-packages\\ipykernel\\kernelapp.py\", line 712, in start\n      self.io_loop.start()\n    File \"C:\\Users\\tiago\\miniconda3\\envs\\tf2_10\\lib\\site-packages\\tornado\\platform\\asyncio.py\", line 215, in start\n      self.asyncio_loop.run_forever()\n    File \"C:\\Users\\tiago\\miniconda3\\envs\\tf2_10\\lib\\asyncio\\base_events.py\", line 595, in run_forever\n      self._run_once()\n    File \"C:\\Users\\tiago\\miniconda3\\envs\\tf2_10\\lib\\asyncio\\base_events.py\", line 1881, in _run_once\n      handle._run()\n    File \"C:\\Users\\tiago\\miniconda3\\envs\\tf2_10\\lib\\asyncio\\events.py\", line 80, in _run\n      self._context.run(self._callback, *self._args)\n    File \"C:\\Users\\tiago\\miniconda3\\envs\\tf2_10\\lib\\site-packages\\ipykernel\\kernelbase.py\", line 510, in dispatch_queue\n      await self.process_one()\n    File \"C:\\Users\\tiago\\miniconda3\\envs\\tf2_10\\lib\\site-packages\\ipykernel\\kernelbase.py\", line 499, in process_one\n      await dispatch(*args)\n    File \"C:\\Users\\tiago\\miniconda3\\envs\\tf2_10\\lib\\site-packages\\ipykernel\\kernelbase.py\", line 406, in dispatch_shell\n      await result\n    File \"C:\\Users\\tiago\\miniconda3\\envs\\tf2_10\\lib\\site-packages\\ipykernel\\kernelbase.py\", line 730, in execute_request\n      reply_content = await reply_content\n    File \"C:\\Users\\tiago\\miniconda3\\envs\\tf2_10\\lib\\site-packages\\ipykernel\\ipkernel.py\", line 383, in do_execute\n      res = shell.run_cell(\n    File \"C:\\Users\\tiago\\miniconda3\\envs\\tf2_10\\lib\\site-packages\\ipykernel\\zmqshell.py\", line 528, in run_cell\n      return super().run_cell(*args, **kwargs)\n    File \"C:\\Users\\tiago\\miniconda3\\envs\\tf2_10\\lib\\site-packages\\IPython\\core\\interactiveshell.py\", line 2940, in run_cell\n      result = self._run_cell(\n    File \"C:\\Users\\tiago\\miniconda3\\envs\\tf2_10\\lib\\site-packages\\IPython\\core\\interactiveshell.py\", line 2995, in _run_cell\n      return runner(coro)\n    File \"C:\\Users\\tiago\\miniconda3\\envs\\tf2_10\\lib\\site-packages\\IPython\\core\\async_helpers.py\", line 129, in _pseudo_sync_runner\n      coro.send(None)\n    File \"C:\\Users\\tiago\\miniconda3\\envs\\tf2_10\\lib\\site-packages\\IPython\\core\\interactiveshell.py\", line 3194, in run_cell_async\n      has_raised = await self.run_ast_nodes(code_ast.body, cell_name,\n    File \"C:\\Users\\tiago\\miniconda3\\envs\\tf2_10\\lib\\site-packages\\IPython\\core\\interactiveshell.py\", line 3373, in run_ast_nodes\n      if await self.run_code(code, result, async_=asy):\n    File \"C:\\Users\\tiago\\miniconda3\\envs\\tf2_10\\lib\\site-packages\\IPython\\core\\interactiveshell.py\", line 3433, in run_code\n      exec(code_obj, self.user_global_ns, self.user_ns)\n    File \"C:\\Users\\tiago\\AppData\\Local\\Temp\\ipykernel_12228\\715056932.py\", line 1, in <module>\n      get_ipython().run_cell_magic('time', '', '# 🏋🏽 trains the model\\nhistory = model.fit(train_generator,\\n                    validation_data = valid_generator,\\n                    epochs = 1000,\\n                    batch_size = BATCH_SIZE,\\n                    verbose = 1,\\n                    steps_per_epoch = (img_trn_dset.n // BATCH_SIZE)*5,\\n                    validation_steps = img_vld_dset.n // BATCH_SIZE,\\n                    validation_batch_size = BATCH_SIZE,\\n                    callbacks = [reduce_lr, chckpnt_cb])\\n')\n    File \"C:\\Users\\tiago\\miniconda3\\envs\\tf2_10\\lib\\site-packages\\IPython\\core\\interactiveshell.py\", line 2417, in run_cell_magic\n      result = fn(*args, **kwargs)\n    File \"C:\\Users\\tiago\\miniconda3\\envs\\tf2_10\\lib\\site-packages\\IPython\\core\\magics\\execution.py\", line 1316, in time\n      exec(code, glob, local_ns)\n    File \"<timed exec>\", line 2, in <module>\n    File \"C:\\Users\\tiago\\miniconda3\\envs\\tf2_10\\lib\\site-packages\\keras\\utils\\traceback_utils.py\", line 65, in error_handler\n      return fn(*args, **kwargs)\n    File \"C:\\Users\\tiago\\miniconda3\\envs\\tf2_10\\lib\\site-packages\\keras\\engine\\training.py\", line 1564, in fit\n      tmp_logs = self.train_function(iterator)\n    File \"C:\\Users\\tiago\\miniconda3\\envs\\tf2_10\\lib\\site-packages\\keras\\engine\\training.py\", line 1160, in train_function\n      return step_function(self, iterator)\n    File \"C:\\Users\\tiago\\miniconda3\\envs\\tf2_10\\lib\\site-packages\\keras\\engine\\training.py\", line 1146, in step_function\n      outputs = model.distribute_strategy.run(run_step, args=(data,))\n    File \"C:\\Users\\tiago\\miniconda3\\envs\\tf2_10\\lib\\site-packages\\keras\\engine\\training.py\", line 1135, in run_step\n      outputs = model.train_step(data)\n    File \"C:\\Users\\tiago\\miniconda3\\envs\\tf2_10\\lib\\site-packages\\transformers\\modeling_tf_utils.py\", line 1535, in train_step\n      y_pred = self(x, training=True)\n    File \"C:\\Users\\tiago\\miniconda3\\envs\\tf2_10\\lib\\site-packages\\keras\\utils\\traceback_utils.py\", line 65, in error_handler\n      return fn(*args, **kwargs)\n    File \"C:\\Users\\tiago\\miniconda3\\envs\\tf2_10\\lib\\site-packages\\keras\\engine\\training.py\", line 557, in __call__\n      return super().__call__(*args, **kwargs)\n    File \"C:\\Users\\tiago\\miniconda3\\envs\\tf2_10\\lib\\site-packages\\keras\\utils\\traceback_utils.py\", line 65, in error_handler\n      return fn(*args, **kwargs)\n    File \"C:\\Users\\tiago\\miniconda3\\envs\\tf2_10\\lib\\site-packages\\keras\\engine\\base_layer.py\", line 1097, in __call__\n      outputs = call_fn(inputs, *args, **kwargs)\n    File \"C:\\Users\\tiago\\miniconda3\\envs\\tf2_10\\lib\\site-packages\\keras\\utils\\traceback_utils.py\", line 96, in error_handler\n      return fn(*args, **kwargs)\n    File \"C:\\Users\\tiago\\miniconda3\\envs\\tf2_10\\lib\\site-packages\\transformers\\modeling_tf_utils.py\", line 830, in run_call_with_unpacked_inputs\n      raise e\n    File \"C:\\Users\\tiago\\miniconda3\\envs\\tf2_10\\lib\\site-packages\\transformers\\models\\segformer\\modeling_tf_segformer.py\", line 857, in call\n      outputs = self.segformer(\n    File \"C:\\Users\\tiago\\miniconda3\\envs\\tf2_10\\lib\\site-packages\\keras\\utils\\traceback_utils.py\", line 65, in error_handler\n      return fn(*args, **kwargs)\n    File \"C:\\Users\\tiago\\miniconda3\\envs\\tf2_10\\lib\\site-packages\\keras\\engine\\base_layer.py\", line 1097, in __call__\n      outputs = call_fn(inputs, *args, **kwargs)\n    File \"C:\\Users\\tiago\\miniconda3\\envs\\tf2_10\\lib\\site-packages\\keras\\utils\\traceback_utils.py\", line 96, in error_handler\n      return fn(*args, **kwargs)\n    File \"C:\\Users\\tiago\\miniconda3\\envs\\tf2_10\\lib\\site-packages\\transformers\\modeling_tf_utils.py\", line 830, in run_call_with_unpacked_inputs\n      raise e\n    File \"C:\\Users\\tiago\\miniconda3\\envs\\tf2_10\\lib\\site-packages\\transformers\\models\\segformer\\modeling_tf_segformer.py\", line 481, in call\n      encoder_outputs = self.encoder(\n    File \"C:\\Users\\tiago\\miniconda3\\envs\\tf2_10\\lib\\site-packages\\keras\\utils\\traceback_utils.py\", line 65, in error_handler\n      return fn(*args, **kwargs)\n    File \"C:\\Users\\tiago\\miniconda3\\envs\\tf2_10\\lib\\site-packages\\keras\\engine\\base_layer.py\", line 1097, in __call__\n      outputs = call_fn(inputs, *args, **kwargs)\n    File \"C:\\Users\\tiago\\miniconda3\\envs\\tf2_10\\lib\\site-packages\\keras\\utils\\traceback_utils.py\", line 96, in error_handler\n      return fn(*args, **kwargs)\n    File \"C:\\Users\\tiago\\miniconda3\\envs\\tf2_10\\lib\\site-packages\\transformers\\models\\segformer\\modeling_tf_segformer.py\", line 413, in call\n      for idx, x in enumerate(zip(self.embeddings, self.block, self.layer_norms)):\n    File \"C:\\Users\\tiago\\miniconda3\\envs\\tf2_10\\lib\\site-packages\\transformers\\models\\segformer\\modeling_tf_segformer.py\", line 416, in call\n      hidden_states, height, width = embedding_layer(hidden_states)\n    File \"C:\\Users\\tiago\\miniconda3\\envs\\tf2_10\\lib\\site-packages\\keras\\utils\\traceback_utils.py\", line 65, in error_handler\n      return fn(*args, **kwargs)\n    File \"C:\\Users\\tiago\\miniconda3\\envs\\tf2_10\\lib\\site-packages\\keras\\engine\\base_layer.py\", line 1097, in __call__\n      outputs = call_fn(inputs, *args, **kwargs)\n    File \"C:\\Users\\tiago\\miniconda3\\envs\\tf2_10\\lib\\site-packages\\keras\\utils\\traceback_utils.py\", line 96, in error_handler\n      return fn(*args, **kwargs)\n    File \"C:\\Users\\tiago\\miniconda3\\envs\\tf2_10\\lib\\site-packages\\transformers\\models\\segformer\\modeling_tf_segformer.py\", line 89, in call\n      embeddings = self.proj(self.padding(pixel_values))\n    File \"C:\\Users\\tiago\\miniconda3\\envs\\tf2_10\\lib\\site-packages\\keras\\utils\\traceback_utils.py\", line 65, in error_handler\n      return fn(*args, **kwargs)\n    File \"C:\\Users\\tiago\\miniconda3\\envs\\tf2_10\\lib\\site-packages\\keras\\engine\\base_layer.py\", line 1097, in __call__\n      outputs = call_fn(inputs, *args, **kwargs)\n    File \"C:\\Users\\tiago\\miniconda3\\envs\\tf2_10\\lib\\site-packages\\keras\\utils\\traceback_utils.py\", line 96, in error_handler\n      return fn(*args, **kwargs)\n    File \"C:\\Users\\tiago\\miniconda3\\envs\\tf2_10\\lib\\site-packages\\keras\\layers\\convolutional\\base_conv.py\", line 283, in call\n      outputs = self.convolution_op(inputs, self.kernel)\n    File \"C:\\Users\\tiago\\miniconda3\\envs\\tf2_10\\lib\\site-packages\\keras\\layers\\convolutional\\base_conv.py\", line 255, in convolution_op\n      return tf.nn.convolution(\nNode: 'tf_segformer_for_semantic_segmentation/segformer/encoder/patch_embeddings.0/proj/Conv2D'\ninput depth must be evenly divisible by filter depth: 512 vs 3\n\t [[{{node tf_segformer_for_semantic_segmentation/segformer/encoder/patch_embeddings.0/proj/Conv2D}}]] [Op:__inference_train_function_28071]",
     "output_type": "error",
     "traceback": [
      "\u001b[1;31m---------------------------------------------------------------------------\u001b[0m",
      "\u001b[1;31mInvalidArgumentError\u001b[0m                      Traceback (most recent call last)",
      "File \u001b[1;32m<timed exec>:2\u001b[0m\n",
      "File \u001b[1;32m~\\miniconda3\\envs\\tf2_10\\lib\\site-packages\\keras\\utils\\traceback_utils.py:70\u001b[0m, in \u001b[0;36mfilter_traceback.<locals>.error_handler\u001b[1;34m(*args, **kwargs)\u001b[0m\n\u001b[0;32m     67\u001b[0m     filtered_tb \u001b[38;5;241m=\u001b[39m _process_traceback_frames(e\u001b[38;5;241m.\u001b[39m__traceback__)\n\u001b[0;32m     68\u001b[0m     \u001b[38;5;66;03m# To get the full stack trace, call:\u001b[39;00m\n\u001b[0;32m     69\u001b[0m     \u001b[38;5;66;03m# `tf.debugging.disable_traceback_filtering()`\u001b[39;00m\n\u001b[1;32m---> 70\u001b[0m     \u001b[38;5;28;01mraise\u001b[39;00m e\u001b[38;5;241m.\u001b[39mwith_traceback(filtered_tb) \u001b[38;5;28;01mfrom\u001b[39;00m \u001b[38;5;28mNone\u001b[39m\n\u001b[0;32m     71\u001b[0m \u001b[38;5;28;01mfinally\u001b[39;00m:\n\u001b[0;32m     72\u001b[0m     \u001b[38;5;28;01mdel\u001b[39;00m filtered_tb\n",
      "File \u001b[1;32m~\\miniconda3\\envs\\tf2_10\\lib\\site-packages\\tensorflow\\python\\eager\\execute.py:54\u001b[0m, in \u001b[0;36mquick_execute\u001b[1;34m(op_name, num_outputs, inputs, attrs, ctx, name)\u001b[0m\n\u001b[0;32m     52\u001b[0m \u001b[38;5;28;01mtry\u001b[39;00m:\n\u001b[0;32m     53\u001b[0m   ctx\u001b[38;5;241m.\u001b[39mensure_initialized()\n\u001b[1;32m---> 54\u001b[0m   tensors \u001b[38;5;241m=\u001b[39m pywrap_tfe\u001b[38;5;241m.\u001b[39mTFE_Py_Execute(ctx\u001b[38;5;241m.\u001b[39m_handle, device_name, op_name,\n\u001b[0;32m     55\u001b[0m                                       inputs, attrs, num_outputs)\n\u001b[0;32m     56\u001b[0m \u001b[38;5;28;01mexcept\u001b[39;00m core\u001b[38;5;241m.\u001b[39m_NotOkStatusException \u001b[38;5;28;01mas\u001b[39;00m e:\n\u001b[0;32m     57\u001b[0m   \u001b[38;5;28;01mif\u001b[39;00m name \u001b[38;5;129;01mis\u001b[39;00m \u001b[38;5;129;01mnot\u001b[39;00m \u001b[38;5;28;01mNone\u001b[39;00m:\n",
      "\u001b[1;31mInvalidArgumentError\u001b[0m: Graph execution error:\n\nDetected at node 'tf_segformer_for_semantic_segmentation/segformer/encoder/patch_embeddings.0/proj/Conv2D' defined at (most recent call last):\n    File \"C:\\Users\\tiago\\miniconda3\\envs\\tf2_10\\lib\\runpy.py\", line 196, in _run_module_as_main\n      return _run_code(code, main_globals, None,\n    File \"C:\\Users\\tiago\\miniconda3\\envs\\tf2_10\\lib\\runpy.py\", line 86, in _run_code\n      exec(code, run_globals)\n    File \"C:\\Users\\tiago\\miniconda3\\envs\\tf2_10\\lib\\site-packages\\ipykernel_launcher.py\", line 17, in <module>\n      app.launch_new_instance()\n    File \"C:\\Users\\tiago\\miniconda3\\envs\\tf2_10\\lib\\site-packages\\traitlets\\config\\application.py\", line 846, in launch_instance\n      app.start()\n    File \"C:\\Users\\tiago\\miniconda3\\envs\\tf2_10\\lib\\site-packages\\ipykernel\\kernelapp.py\", line 712, in start\n      self.io_loop.start()\n    File \"C:\\Users\\tiago\\miniconda3\\envs\\tf2_10\\lib\\site-packages\\tornado\\platform\\asyncio.py\", line 215, in start\n      self.asyncio_loop.run_forever()\n    File \"C:\\Users\\tiago\\miniconda3\\envs\\tf2_10\\lib\\asyncio\\base_events.py\", line 595, in run_forever\n      self._run_once()\n    File \"C:\\Users\\tiago\\miniconda3\\envs\\tf2_10\\lib\\asyncio\\base_events.py\", line 1881, in _run_once\n      handle._run()\n    File \"C:\\Users\\tiago\\miniconda3\\envs\\tf2_10\\lib\\asyncio\\events.py\", line 80, in _run\n      self._context.run(self._callback, *self._args)\n    File \"C:\\Users\\tiago\\miniconda3\\envs\\tf2_10\\lib\\site-packages\\ipykernel\\kernelbase.py\", line 510, in dispatch_queue\n      await self.process_one()\n    File \"C:\\Users\\tiago\\miniconda3\\envs\\tf2_10\\lib\\site-packages\\ipykernel\\kernelbase.py\", line 499, in process_one\n      await dispatch(*args)\n    File \"C:\\Users\\tiago\\miniconda3\\envs\\tf2_10\\lib\\site-packages\\ipykernel\\kernelbase.py\", line 406, in dispatch_shell\n      await result\n    File \"C:\\Users\\tiago\\miniconda3\\envs\\tf2_10\\lib\\site-packages\\ipykernel\\kernelbase.py\", line 730, in execute_request\n      reply_content = await reply_content\n    File \"C:\\Users\\tiago\\miniconda3\\envs\\tf2_10\\lib\\site-packages\\ipykernel\\ipkernel.py\", line 383, in do_execute\n      res = shell.run_cell(\n    File \"C:\\Users\\tiago\\miniconda3\\envs\\tf2_10\\lib\\site-packages\\ipykernel\\zmqshell.py\", line 528, in run_cell\n      return super().run_cell(*args, **kwargs)\n    File \"C:\\Users\\tiago\\miniconda3\\envs\\tf2_10\\lib\\site-packages\\IPython\\core\\interactiveshell.py\", line 2940, in run_cell\n      result = self._run_cell(\n    File \"C:\\Users\\tiago\\miniconda3\\envs\\tf2_10\\lib\\site-packages\\IPython\\core\\interactiveshell.py\", line 2995, in _run_cell\n      return runner(coro)\n    File \"C:\\Users\\tiago\\miniconda3\\envs\\tf2_10\\lib\\site-packages\\IPython\\core\\async_helpers.py\", line 129, in _pseudo_sync_runner\n      coro.send(None)\n    File \"C:\\Users\\tiago\\miniconda3\\envs\\tf2_10\\lib\\site-packages\\IPython\\core\\interactiveshell.py\", line 3194, in run_cell_async\n      has_raised = await self.run_ast_nodes(code_ast.body, cell_name,\n    File \"C:\\Users\\tiago\\miniconda3\\envs\\tf2_10\\lib\\site-packages\\IPython\\core\\interactiveshell.py\", line 3373, in run_ast_nodes\n      if await self.run_code(code, result, async_=asy):\n    File \"C:\\Users\\tiago\\miniconda3\\envs\\tf2_10\\lib\\site-packages\\IPython\\core\\interactiveshell.py\", line 3433, in run_code\n      exec(code_obj, self.user_global_ns, self.user_ns)\n    File \"C:\\Users\\tiago\\AppData\\Local\\Temp\\ipykernel_12228\\715056932.py\", line 1, in <module>\n      get_ipython().run_cell_magic('time', '', '# 🏋🏽 trains the model\\nhistory = model.fit(train_generator,\\n                    validation_data = valid_generator,\\n                    epochs = 1000,\\n                    batch_size = BATCH_SIZE,\\n                    verbose = 1,\\n                    steps_per_epoch = (img_trn_dset.n // BATCH_SIZE)*5,\\n                    validation_steps = img_vld_dset.n // BATCH_SIZE,\\n                    validation_batch_size = BATCH_SIZE,\\n                    callbacks = [reduce_lr, chckpnt_cb])\\n')\n    File \"C:\\Users\\tiago\\miniconda3\\envs\\tf2_10\\lib\\site-packages\\IPython\\core\\interactiveshell.py\", line 2417, in run_cell_magic\n      result = fn(*args, **kwargs)\n    File \"C:\\Users\\tiago\\miniconda3\\envs\\tf2_10\\lib\\site-packages\\IPython\\core\\magics\\execution.py\", line 1316, in time\n      exec(code, glob, local_ns)\n    File \"<timed exec>\", line 2, in <module>\n    File \"C:\\Users\\tiago\\miniconda3\\envs\\tf2_10\\lib\\site-packages\\keras\\utils\\traceback_utils.py\", line 65, in error_handler\n      return fn(*args, **kwargs)\n    File \"C:\\Users\\tiago\\miniconda3\\envs\\tf2_10\\lib\\site-packages\\keras\\engine\\training.py\", line 1564, in fit\n      tmp_logs = self.train_function(iterator)\n    File \"C:\\Users\\tiago\\miniconda3\\envs\\tf2_10\\lib\\site-packages\\keras\\engine\\training.py\", line 1160, in train_function\n      return step_function(self, iterator)\n    File \"C:\\Users\\tiago\\miniconda3\\envs\\tf2_10\\lib\\site-packages\\keras\\engine\\training.py\", line 1146, in step_function\n      outputs = model.distribute_strategy.run(run_step, args=(data,))\n    File \"C:\\Users\\tiago\\miniconda3\\envs\\tf2_10\\lib\\site-packages\\keras\\engine\\training.py\", line 1135, in run_step\n      outputs = model.train_step(data)\n    File \"C:\\Users\\tiago\\miniconda3\\envs\\tf2_10\\lib\\site-packages\\transformers\\modeling_tf_utils.py\", line 1535, in train_step\n      y_pred = self(x, training=True)\n    File \"C:\\Users\\tiago\\miniconda3\\envs\\tf2_10\\lib\\site-packages\\keras\\utils\\traceback_utils.py\", line 65, in error_handler\n      return fn(*args, **kwargs)\n    File \"C:\\Users\\tiago\\miniconda3\\envs\\tf2_10\\lib\\site-packages\\keras\\engine\\training.py\", line 557, in __call__\n      return super().__call__(*args, **kwargs)\n    File \"C:\\Users\\tiago\\miniconda3\\envs\\tf2_10\\lib\\site-packages\\keras\\utils\\traceback_utils.py\", line 65, in error_handler\n      return fn(*args, **kwargs)\n    File \"C:\\Users\\tiago\\miniconda3\\envs\\tf2_10\\lib\\site-packages\\keras\\engine\\base_layer.py\", line 1097, in __call__\n      outputs = call_fn(inputs, *args, **kwargs)\n    File \"C:\\Users\\tiago\\miniconda3\\envs\\tf2_10\\lib\\site-packages\\keras\\utils\\traceback_utils.py\", line 96, in error_handler\n      return fn(*args, **kwargs)\n    File \"C:\\Users\\tiago\\miniconda3\\envs\\tf2_10\\lib\\site-packages\\transformers\\modeling_tf_utils.py\", line 830, in run_call_with_unpacked_inputs\n      raise e\n    File \"C:\\Users\\tiago\\miniconda3\\envs\\tf2_10\\lib\\site-packages\\transformers\\models\\segformer\\modeling_tf_segformer.py\", line 857, in call\n      outputs = self.segformer(\n    File \"C:\\Users\\tiago\\miniconda3\\envs\\tf2_10\\lib\\site-packages\\keras\\utils\\traceback_utils.py\", line 65, in error_handler\n      return fn(*args, **kwargs)\n    File \"C:\\Users\\tiago\\miniconda3\\envs\\tf2_10\\lib\\site-packages\\keras\\engine\\base_layer.py\", line 1097, in __call__\n      outputs = call_fn(inputs, *args, **kwargs)\n    File \"C:\\Users\\tiago\\miniconda3\\envs\\tf2_10\\lib\\site-packages\\keras\\utils\\traceback_utils.py\", line 96, in error_handler\n      return fn(*args, **kwargs)\n    File \"C:\\Users\\tiago\\miniconda3\\envs\\tf2_10\\lib\\site-packages\\transformers\\modeling_tf_utils.py\", line 830, in run_call_with_unpacked_inputs\n      raise e\n    File \"C:\\Users\\tiago\\miniconda3\\envs\\tf2_10\\lib\\site-packages\\transformers\\models\\segformer\\modeling_tf_segformer.py\", line 481, in call\n      encoder_outputs = self.encoder(\n    File \"C:\\Users\\tiago\\miniconda3\\envs\\tf2_10\\lib\\site-packages\\keras\\utils\\traceback_utils.py\", line 65, in error_handler\n      return fn(*args, **kwargs)\n    File \"C:\\Users\\tiago\\miniconda3\\envs\\tf2_10\\lib\\site-packages\\keras\\engine\\base_layer.py\", line 1097, in __call__\n      outputs = call_fn(inputs, *args, **kwargs)\n    File \"C:\\Users\\tiago\\miniconda3\\envs\\tf2_10\\lib\\site-packages\\keras\\utils\\traceback_utils.py\", line 96, in error_handler\n      return fn(*args, **kwargs)\n    File \"C:\\Users\\tiago\\miniconda3\\envs\\tf2_10\\lib\\site-packages\\transformers\\models\\segformer\\modeling_tf_segformer.py\", line 413, in call\n      for idx, x in enumerate(zip(self.embeddings, self.block, self.layer_norms)):\n    File \"C:\\Users\\tiago\\miniconda3\\envs\\tf2_10\\lib\\site-packages\\transformers\\models\\segformer\\modeling_tf_segformer.py\", line 416, in call\n      hidden_states, height, width = embedding_layer(hidden_states)\n    File \"C:\\Users\\tiago\\miniconda3\\envs\\tf2_10\\lib\\site-packages\\keras\\utils\\traceback_utils.py\", line 65, in error_handler\n      return fn(*args, **kwargs)\n    File \"C:\\Users\\tiago\\miniconda3\\envs\\tf2_10\\lib\\site-packages\\keras\\engine\\base_layer.py\", line 1097, in __call__\n      outputs = call_fn(inputs, *args, **kwargs)\n    File \"C:\\Users\\tiago\\miniconda3\\envs\\tf2_10\\lib\\site-packages\\keras\\utils\\traceback_utils.py\", line 96, in error_handler\n      return fn(*args, **kwargs)\n    File \"C:\\Users\\tiago\\miniconda3\\envs\\tf2_10\\lib\\site-packages\\transformers\\models\\segformer\\modeling_tf_segformer.py\", line 89, in call\n      embeddings = self.proj(self.padding(pixel_values))\n    File \"C:\\Users\\tiago\\miniconda3\\envs\\tf2_10\\lib\\site-packages\\keras\\utils\\traceback_utils.py\", line 65, in error_handler\n      return fn(*args, **kwargs)\n    File \"C:\\Users\\tiago\\miniconda3\\envs\\tf2_10\\lib\\site-packages\\keras\\engine\\base_layer.py\", line 1097, in __call__\n      outputs = call_fn(inputs, *args, **kwargs)\n    File \"C:\\Users\\tiago\\miniconda3\\envs\\tf2_10\\lib\\site-packages\\keras\\utils\\traceback_utils.py\", line 96, in error_handler\n      return fn(*args, **kwargs)\n    File \"C:\\Users\\tiago\\miniconda3\\envs\\tf2_10\\lib\\site-packages\\keras\\layers\\convolutional\\base_conv.py\", line 283, in call\n      outputs = self.convolution_op(inputs, self.kernel)\n    File \"C:\\Users\\tiago\\miniconda3\\envs\\tf2_10\\lib\\site-packages\\keras\\layers\\convolutional\\base_conv.py\", line 255, in convolution_op\n      return tf.nn.convolution(\nNode: 'tf_segformer_for_semantic_segmentation/segformer/encoder/patch_embeddings.0/proj/Conv2D'\ninput depth must be evenly divisible by filter depth: 512 vs 3\n\t [[{{node tf_segformer_for_semantic_segmentation/segformer/encoder/patch_embeddings.0/proj/Conv2D}}]] [Op:__inference_train_function_28071]"
     ]
    }
   ],
   "source": [
    "%%time\n",
    "# 🏋🏽 trains the model\n",
    "history = model.fit(train_generator,\n",
    "                    validation_data = valid_generator,\n",
    "                    epochs = 1000,\n",
    "                    batch_size = BATCH_SIZE,\n",
    "                    verbose = 1,\n",
    "                    steps_per_epoch = (img_trn_dset.n // BATCH_SIZE)*5,\n",
    "                    validation_steps = img_vld_dset.n // BATCH_SIZE,\n",
    "                    validation_batch_size = BATCH_SIZE,\n",
    "                    callbacks = [reduce_lr, chckpnt_cb])"
   ]
  }
 ],
 "metadata": {
  "kernelspec": {
   "display_name": "Python 3 (ipykernel)",
   "language": "python",
   "name": "python3"
  },
  "language_info": {
   "codemirror_mode": {
    "name": "ipython",
    "version": 3
   },
   "file_extension": ".py",
   "mimetype": "text/x-python",
   "name": "python",
   "nbconvert_exporter": "python",
   "pygments_lexer": "ipython3",
   "version": "3.10.0"
  }
 },
 "nbformat": 4,
 "nbformat_minor": 5
}
